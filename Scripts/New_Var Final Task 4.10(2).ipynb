{
 "cells": [
  {
   "cell_type": "markdown",
   "id": "3eafaeed-4928-444b-9049-d612f4b89bb8",
   "metadata": {},
   "source": [
    "# 01. Importing libraries"
   ]
  },
  {
   "cell_type": "code",
   "execution_count": 1,
   "id": "a95df204-417f-410c-911f-6c13d3588e7c",
   "metadata": {},
   "outputs": [],
   "source": [
    "import pandas as pd\n",
    "import numpy as np\n",
    "import os"
   ]
  },
  {
   "cell_type": "markdown",
   "id": "e6e41fb5-e778-4928-ad69-788dfa46fe33",
   "metadata": {},
   "source": [
    "# 02. Importing data"
   ]
  },
  {
   "cell_type": "code",
   "execution_count": 2,
   "id": "df403097-2f38-4d7e-a552-1a0cbfc92834",
   "metadata": {},
   "outputs": [],
   "source": [
    "# Python shortcut - reusable path\n",
    "path = r'C:\\Users\\thoma\\OneDrive\\Dokumente\\data analytics\\Data Project 4\\06-2025 Instacart Basket Analysis'"
   ]
  },
  {
   "cell_type": "code",
   "execution_count": 3,
   "id": "becd192b-3197-42e8-8d19-fa15523cd8a2",
   "metadata": {},
   "outputs": [
    {
     "data": {
      "text/plain": [
       "'C:\\\\Users\\\\thoma\\\\OneDrive\\\\Dokumente\\\\data analytics\\\\Data Project 4\\\\06-2025 Instacart Basket Analysis'"
      ]
     },
     "execution_count": 3,
     "metadata": {},
     "output_type": "execute_result"
    }
   ],
   "source": [
    "path"
   ]
  },
  {
   "cell_type": "code",
   "execution_count": 4,
   "id": "97246ac4-0919-4d9d-9e10-e9df461e1857",
   "metadata": {},
   "outputs": [],
   "source": [
    "# Importing dataframe\n",
    "df_merged_filtered_final = pd.read_pickle(os.path.join(path, 'Data', 'Prepared Data', 'Pr_merged_filtered_task4.10(1).pkl'))"
   ]
  },
  {
   "cell_type": "code",
   "execution_count": 5,
   "id": "b864fc72-d71b-4a55-aabe-4af7a10ebe01",
   "metadata": {
    "scrolled": true
   },
   "outputs": [
    {
     "data": {
      "text/plain": [
       "Age\n",
       "NaN     1340113\n",
       "48.0     382739\n",
       "31.0     378955\n",
       "79.0     378911\n",
       "64.0     377797\n",
       "         ...   \n",
       "60.0     342716\n",
       "65.0     339767\n",
       "66.0     338049\n",
       "25.0     331688\n",
       "41.0     331677\n",
       "Name: count, Length: 65, dtype: int64"
      ]
     },
     "execution_count": 5,
     "metadata": {},
     "output_type": "execute_result"
    }
   ],
   "source": [
    "# Frequency check\n",
    "df_merged_filtered_final['Age'].value_counts(dropna = False)"
   ]
  },
  {
   "cell_type": "code",
   "execution_count": 6,
   "id": "0a9af8b7-89c9-4d41-855b-eb408b6af6ce",
   "metadata": {},
   "outputs": [],
   "source": [
    "# Cleaning data\n",
    "# Creating a subset consisting of the non-missing values\n",
    "df_merged_filtered_final_cleaned = df_merged_filtered_final[df_merged_filtered_final['Age'].isnull() == False]"
   ]
  },
  {
   "cell_type": "code",
   "execution_count": 7,
   "id": "0c8baf2e-aab0-470e-b90e-2294e493138a",
   "metadata": {},
   "outputs": [
    {
     "data": {
      "text/plain": [
       "Age\n",
       "48.0    382739\n",
       "31.0    378955\n",
       "79.0    378911\n",
       "64.0    377797\n",
       "49.0    377303\n",
       "         ...  \n",
       "60.0    342716\n",
       "65.0    339767\n",
       "66.0    338049\n",
       "25.0    331688\n",
       "41.0    331677\n",
       "Name: count, Length: 64, dtype: int64"
      ]
     },
     "execution_count": 7,
     "metadata": {},
     "output_type": "execute_result"
    }
   ],
   "source": [
    "# Frequency check\n",
    "df_merged_filtered_final_cleaned['Age'].value_counts(dropna = False)"
   ]
  },
  {
   "cell_type": "code",
   "execution_count": 8,
   "id": "8d07f291-f8d3-4793-bb29-1f99890e8dd0",
   "metadata": {},
   "outputs": [
    {
     "data": {
      "text/plain": [
       "income\n",
       "72344.0     4084\n",
       "57501.0     3945\n",
       "112610.0    3764\n",
       "115620.0    3595\n",
       "36163.0     3530\n",
       "            ... \n",
       "89248.0        1\n",
       "52568.0        1\n",
       "58619.0        1\n",
       "67318.0        1\n",
       "119963.0       1\n",
       "Name: count, Length: 93182, dtype: int64"
      ]
     },
     "execution_count": 8,
     "metadata": {},
     "output_type": "execute_result"
    }
   ],
   "source": [
    "# Frequency check\n",
    "df_merged_filtered_final_cleaned['income'].value_counts(dropna = False)"
   ]
  },
  {
   "cell_type": "code",
   "execution_count": 9,
   "id": "956a297a-8270-4bc4-a2c5-943b06c9e601",
   "metadata": {},
   "outputs": [
    {
     "data": {
      "text/plain": [
       "n_dependants\n",
       "3.0    5794501\n",
       "2.0    5773629\n",
       "0.0    5772373\n",
       "1.0    5756848\n",
       "Name: count, dtype: int64"
      ]
     },
     "execution_count": 9,
     "metadata": {},
     "output_type": "execute_result"
    }
   ],
   "source": [
    "# Frequency check\n",
    "df_merged_filtered_final_cleaned['n_dependants'].value_counts(dropna = False)"
   ]
  },
  {
   "cell_type": "code",
   "execution_count": 10,
   "id": "66f17383-95e1-4d79-b785-5530f9b089c1",
   "metadata": {},
   "outputs": [
    {
     "data": {
      "text/plain": [
       "product_name\n",
       "Banana                                                  339323\n",
       "Bag of Organic Bananas                                  286170\n",
       "Organic Strawberries                                    191406\n",
       "Organic Baby Spinach                                    174533\n",
       "Organic Hass Avocado                                    160349\n",
       "                                                         ...  \n",
       "Hot Cocoa Mix, Rich Chocolate Flavor, No Sugar Added         1\n",
       "Fruit Thin Drizzled Banana Cookies                           1\n",
       "Vanilla with Twix Pieces Lowfat Yogurt                       1\n",
       "Organic Mixed Berry                                          1\n",
       "Flavored Vodka, Twist of Raspberry                           1\n",
       "Name: count, Length: 49341, dtype: int64"
      ]
     },
     "execution_count": 10,
     "metadata": {},
     "output_type": "execute_result"
    }
   ],
   "source": [
    "# Frequency check\n",
    "df_merged_filtered_final_cleaned['product_name'].value_counts(dropna = False)"
   ]
  },
  {
   "cell_type": "code",
   "execution_count": 11,
   "id": "a1954250-06e1-4ab0-b84d-7843e45ae6d3",
   "metadata": {
    "scrolled": true
   },
   "outputs": [
    {
     "data": {
      "text/plain": [
       "Index(['order_id', 'user_id', 'order_number', 'order_dow', 'order_hour_of_day',\n",
       "       'days_since_prior_order', 'product_id', 'add_to_cart_order',\n",
       "       'reordered', '_merge1', 'product_name', 'aisle_id', 'department_id',\n",
       "       'prices', '_merge2', 'Busiest days', 'busiest_period_of_day',\n",
       "       'max_order', 'loyalty_flag', 'average_price', 'order_frequency',\n",
       "       'First Name', 'Gender', 'STATE', 'Age', 'date_joined', 'n_dependants',\n",
       "       'fam_status', 'income', '_merge', 'Region', 'exclusion_flag'],\n",
       "      dtype='object')"
      ]
     },
     "execution_count": 11,
     "metadata": {},
     "output_type": "execute_result"
    }
   ],
   "source": [
    "df_merged_filtered_final_cleaned.columns"
   ]
  },
  {
   "cell_type": "code",
   "execution_count": 12,
   "id": "834c44ef-3f51-4390-9c45-49656e7736f3",
   "metadata": {},
   "outputs": [
    {
     "name": "stdout",
     "output_type": "stream",
     "text": [
      "                              product_name  prices\n",
      "2241659   Boneless Skinless Chicken Thighs    25.0\n",
      "16058295     Naturally Smoked Trout Fillet    25.0\n",
      "9642686                    Chicken Tenders    25.0\n",
      "14218303            Wild Caught Raw Shrimp    25.0\n",
      "24463565         Turkey Breast Tenderloins    25.0\n",
      "19652569    Uncured Applewood Smoked Bacon    24.9\n",
      "1083704            Smok Cured Turkey Bacon    24.9\n",
      "14395928                     Lobster Tails    24.9\n",
      "16240282          Sugar Free Dry Rub Bacon    24.9\n",
      "13012115                  Angus Roast Beef    24.9\n"
     ]
    }
   ],
   "source": [
    "# top 10 most expensive products\n",
    "top_expensive = df_merged_filtered_final_cleaned[['product_name', 'prices']].sort_values(by='prices', ascending=False).drop_duplicates().head(10)\n",
    "print(top_expensive)"
   ]
  },
  {
   "cell_type": "code",
   "execution_count": 13,
   "id": "2f1917f3-2fa9-41da-b8c1-3952a999f29b",
   "metadata": {},
   "outputs": [],
   "source": [
    "# 5) Creating a profiling variable based on age, income, certain goods in the “department_id” column, and number of dependents\n",
    "def classify_customer(row):\n",
    "    age = row['Age']\n",
    "    income = row['income']\n",
    "    n_dep = row['n_dependants']\n",
    "    product = row['product_name']\n",
    "    \n",
    "    if age >= 30 and income >= 3000 and n_dep <= 1 and product in ['Boneless Skinless Chicken Thighs', 'Naturally Smoked Trout Fillet', 'Chicken Tenders', 'Wild Caught Raw Shrimp', 'Turkey Breast Tenderloins', 'Uncured Applewood Smoked Bacon', 'Smok Cured Turkey Bacon', 'Lobster Tails', 'Sugar Free Dry Rub Bacon', 'Angus Roast Beef']:\n",
    "        return 'High profile customer'\n",
    "    elif age < 30 or income < 3000 or n_dep > 1:\n",
    "        return 'Low profile customer'\n",
    "    else:\n",
    "        return 'Other'"
   ]
  },
  {
   "cell_type": "code",
   "execution_count": 14,
   "id": "2ab759c5-4650-4b1a-8183-88260e527c3c",
   "metadata": {},
   "outputs": [
    {
     "name": "stderr",
     "output_type": "stream",
     "text": [
      "C:\\Users\\thoma\\AppData\\Local\\Temp\\ipykernel_19304\\385693866.py:1: SettingWithCopyWarning: \n",
      "A value is trying to be set on a copy of a slice from a DataFrame.\n",
      "Try using .loc[row_indexer,col_indexer] = value instead\n",
      "\n",
      "See the caveats in the documentation: https://pandas.pydata.org/pandas-docs/stable/user_guide/indexing.html#returning-a-view-versus-a-copy\n",
      "  df_merged_filtered_final_cleaned['customer_profile'] = df_merged_filtered_final_cleaned.apply(classify_customer, axis=1)\n"
     ]
    }
   ],
   "source": [
    "df_merged_filtered_final_cleaned['customer_profile'] = df_merged_filtered_final_cleaned.apply(classify_customer, axis=1)"
   ]
  },
  {
   "cell_type": "code",
   "execution_count": 15,
   "id": "f09aaa59-0532-44d9-9a96-3fb126d114dd",
   "metadata": {},
   "outputs": [
    {
     "data": {
      "text/plain": [
       "(23097351, 33)"
      ]
     },
     "execution_count": 15,
     "metadata": {},
     "output_type": "execute_result"
    }
   ],
   "source": [
    "df_merged_filtered_final_cleaned.shape"
   ]
  },
  {
   "cell_type": "code",
   "execution_count": 16,
   "id": "79cf64e6-5ab9-4ee9-9e4e-574987f1ac0c",
   "metadata": {},
   "outputs": [
    {
     "data": {
      "text/plain": [
       "customer_profile\n",
       "Low profile customer     13734199\n",
       "Other                     9357610\n",
       "High profile customer        5542\n",
       "Name: count, dtype: int64"
      ]
     },
     "execution_count": 16,
     "metadata": {},
     "output_type": "execute_result"
    }
   ],
   "source": [
    "df_merged_filtered_final_cleaned['customer_profile'].value_counts(dropna = False)"
   ]
  },
  {
   "cell_type": "code",
   "execution_count": 17,
   "id": "b1613237-66da-40a2-9913-952676b5cc0d",
   "metadata": {},
   "outputs": [],
   "source": [
    "# Exporting the dataframe\n",
    "df_merged_filtered_final_cleaned.to_pickle(os.path.join(path, 'Data', 'Prepared Data', 'Pr_merged_filtered_cleaned_newvar_task4.10(2).pkl'))"
   ]
  },
  {
   "cell_type": "code",
   "execution_count": null,
   "id": "8b401508-75b7-4f37-b6f3-fa2051b5e2b9",
   "metadata": {},
   "outputs": [],
   "source": []
  }
 ],
 "metadata": {
  "kernelspec": {
   "display_name": "Python 3 (ipykernel)",
   "language": "python",
   "name": "python3"
  },
  "language_info": {
   "codemirror_mode": {
    "name": "ipython",
    "version": 3
   },
   "file_extension": ".py",
   "mimetype": "text/x-python",
   "name": "python",
   "nbconvert_exporter": "python",
   "pygments_lexer": "ipython3",
   "version": "3.12.7"
  }
 },
 "nbformat": 4,
 "nbformat_minor": 5
}
