{
 "cells": [
  {
   "cell_type": "markdown",
   "id": "24d8150c-2648-4419-99ff-92d5dc6c107a",
   "metadata": {},
   "source": [
    "# 01. Importing libraries"
   ]
  },
  {
   "cell_type": "code",
   "execution_count": 1,
   "id": "13e8dcc2-1faa-4747-ac23-987b5f5e470b",
   "metadata": {},
   "outputs": [],
   "source": [
    "import pandas as pd\n",
    "import numpy as np\n",
    "import os"
   ]
  },
  {
   "cell_type": "markdown",
   "id": "80515da4-cd59-4f64-83d9-86fcb81d16ac",
   "metadata": {},
   "source": [
    "# 02. Importing data"
   ]
  },
  {
   "cell_type": "code",
   "execution_count": 2,
   "id": "fb23e26e-8a3f-4401-8ba9-89e0bc7d0b03",
   "metadata": {},
   "outputs": [],
   "source": [
    "# Python shortcut - reusable path\n",
    "path = r'C:\\Users\\thoma\\OneDrive\\Dokumente\\data analytics\\Data Project 4\\06-2025 Instacart Basket Analysis'"
   ]
  },
  {
   "cell_type": "code",
   "execution_count": 3,
   "id": "96e69180-2749-4356-bf84-e187c8cd28c1",
   "metadata": {},
   "outputs": [
    {
     "data": {
      "text/plain": [
       "'C:\\\\Users\\\\thoma\\\\OneDrive\\\\Dokumente\\\\data analytics\\\\Data Project 4\\\\06-2025 Instacart Basket Analysis'"
      ]
     },
     "execution_count": 3,
     "metadata": {},
     "output_type": "execute_result"
    }
   ],
   "source": [
    "path"
   ]
  },
  {
   "cell_type": "code",
   "execution_count": 4,
   "id": "86b3e0fa-11f0-4718-b890-61e4cc584eeb",
   "metadata": {},
   "outputs": [],
   "source": [
    "# Importing the customer data set\n",
    "df_customer_data_set = pd.read_csv(os.path.join(path, 'Data', 'Original Data', 'customers.csv'))"
   ]
  },
  {
   "cell_type": "code",
   "execution_count": 5,
   "id": "d2321e1d-7e46-48cf-8a97-5b17b0eca544",
   "metadata": {},
   "outputs": [
    {
     "data": {
      "text/plain": [
       "(206209, 10)"
      ]
     },
     "execution_count": 5,
     "metadata": {},
     "output_type": "execute_result"
    }
   ],
   "source": [
    "# Question 4. & 5. - data wrangling, quality and consistency checks\n",
    "df_customer_data_set.shape"
   ]
  },
  {
   "cell_type": "code",
   "execution_count": 6,
   "id": "05d090dc-a302-44f6-94b2-e47f734e9d12",
   "metadata": {},
   "outputs": [
    {
     "data": {
      "text/html": [
       "<div>\n",
       "<style scoped>\n",
       "    .dataframe tbody tr th:only-of-type {\n",
       "        vertical-align: middle;\n",
       "    }\n",
       "\n",
       "    .dataframe tbody tr th {\n",
       "        vertical-align: top;\n",
       "    }\n",
       "\n",
       "    .dataframe thead th {\n",
       "        text-align: right;\n",
       "    }\n",
       "</style>\n",
       "<table border=\"1\" class=\"dataframe\">\n",
       "  <thead>\n",
       "    <tr style=\"text-align: right;\">\n",
       "      <th></th>\n",
       "      <th>user_id</th>\n",
       "      <th>First Name</th>\n",
       "      <th>Surnam</th>\n",
       "      <th>Gender</th>\n",
       "      <th>STATE</th>\n",
       "      <th>Age</th>\n",
       "      <th>date_joined</th>\n",
       "      <th>n_dependants</th>\n",
       "      <th>fam_status</th>\n",
       "      <th>income</th>\n",
       "    </tr>\n",
       "  </thead>\n",
       "  <tbody>\n",
       "    <tr>\n",
       "      <th>0</th>\n",
       "      <td>26711</td>\n",
       "      <td>Deborah</td>\n",
       "      <td>Esquivel</td>\n",
       "      <td>Female</td>\n",
       "      <td>Missouri</td>\n",
       "      <td>48</td>\n",
       "      <td>1/1/2017</td>\n",
       "      <td>3</td>\n",
       "      <td>married</td>\n",
       "      <td>165665</td>\n",
       "    </tr>\n",
       "    <tr>\n",
       "      <th>1</th>\n",
       "      <td>33890</td>\n",
       "      <td>Patricia</td>\n",
       "      <td>Hart</td>\n",
       "      <td>Female</td>\n",
       "      <td>New Mexico</td>\n",
       "      <td>36</td>\n",
       "      <td>1/1/2017</td>\n",
       "      <td>0</td>\n",
       "      <td>single</td>\n",
       "      <td>59285</td>\n",
       "    </tr>\n",
       "    <tr>\n",
       "      <th>2</th>\n",
       "      <td>65803</td>\n",
       "      <td>Kenneth</td>\n",
       "      <td>Farley</td>\n",
       "      <td>Male</td>\n",
       "      <td>Idaho</td>\n",
       "      <td>35</td>\n",
       "      <td>1/1/2017</td>\n",
       "      <td>2</td>\n",
       "      <td>married</td>\n",
       "      <td>99568</td>\n",
       "    </tr>\n",
       "    <tr>\n",
       "      <th>3</th>\n",
       "      <td>125935</td>\n",
       "      <td>Michelle</td>\n",
       "      <td>Hicks</td>\n",
       "      <td>Female</td>\n",
       "      <td>Iowa</td>\n",
       "      <td>40</td>\n",
       "      <td>1/1/2017</td>\n",
       "      <td>0</td>\n",
       "      <td>single</td>\n",
       "      <td>42049</td>\n",
       "    </tr>\n",
       "    <tr>\n",
       "      <th>4</th>\n",
       "      <td>130797</td>\n",
       "      <td>Ann</td>\n",
       "      <td>Gilmore</td>\n",
       "      <td>Female</td>\n",
       "      <td>Maryland</td>\n",
       "      <td>26</td>\n",
       "      <td>1/1/2017</td>\n",
       "      <td>1</td>\n",
       "      <td>married</td>\n",
       "      <td>40374</td>\n",
       "    </tr>\n",
       "    <tr>\n",
       "      <th>5</th>\n",
       "      <td>133128</td>\n",
       "      <td>Cynthia</td>\n",
       "      <td>Noble</td>\n",
       "      <td>Female</td>\n",
       "      <td>Kentucky</td>\n",
       "      <td>43</td>\n",
       "      <td>1/1/2017</td>\n",
       "      <td>2</td>\n",
       "      <td>married</td>\n",
       "      <td>49643</td>\n",
       "    </tr>\n",
       "    <tr>\n",
       "      <th>6</th>\n",
       "      <td>152052</td>\n",
       "      <td>Chris</td>\n",
       "      <td>Walton</td>\n",
       "      <td>Male</td>\n",
       "      <td>Montana</td>\n",
       "      <td>20</td>\n",
       "      <td>1/1/2017</td>\n",
       "      <td>0</td>\n",
       "      <td>single</td>\n",
       "      <td>61746</td>\n",
       "    </tr>\n",
       "    <tr>\n",
       "      <th>7</th>\n",
       "      <td>168851</td>\n",
       "      <td>Joseph</td>\n",
       "      <td>Hickman</td>\n",
       "      <td>Male</td>\n",
       "      <td>South Carolina</td>\n",
       "      <td>30</td>\n",
       "      <td>1/1/2017</td>\n",
       "      <td>0</td>\n",
       "      <td>single</td>\n",
       "      <td>63712</td>\n",
       "    </tr>\n",
       "    <tr>\n",
       "      <th>8</th>\n",
       "      <td>69965</td>\n",
       "      <td>Jeremy</td>\n",
       "      <td>Vang</td>\n",
       "      <td>Male</td>\n",
       "      <td>Texas</td>\n",
       "      <td>47</td>\n",
       "      <td>1/1/2017</td>\n",
       "      <td>1</td>\n",
       "      <td>married</td>\n",
       "      <td>162432</td>\n",
       "    </tr>\n",
       "    <tr>\n",
       "      <th>9</th>\n",
       "      <td>82820</td>\n",
       "      <td>Shawn</td>\n",
       "      <td>Chung</td>\n",
       "      <td>Male</td>\n",
       "      <td>Virginia</td>\n",
       "      <td>26</td>\n",
       "      <td>1/1/2017</td>\n",
       "      <td>2</td>\n",
       "      <td>married</td>\n",
       "      <td>32072</td>\n",
       "    </tr>\n",
       "    <tr>\n",
       "      <th>10</th>\n",
       "      <td>26441</td>\n",
       "      <td>Gloria</td>\n",
       "      <td>Stafford</td>\n",
       "      <td>Female</td>\n",
       "      <td>Nevada</td>\n",
       "      <td>19</td>\n",
       "      <td>1/1/2017</td>\n",
       "      <td>2</td>\n",
       "      <td>living with parents and siblings</td>\n",
       "      <td>43443</td>\n",
       "    </tr>\n",
       "    <tr>\n",
       "      <th>11</th>\n",
       "      <td>33835</td>\n",
       "      <td>Roger</td>\n",
       "      <td>Casey</td>\n",
       "      <td>Male</td>\n",
       "      <td>Nebraska</td>\n",
       "      <td>45</td>\n",
       "      <td>1/1/2017</td>\n",
       "      <td>2</td>\n",
       "      <td>married</td>\n",
       "      <td>47988</td>\n",
       "    </tr>\n",
       "    <tr>\n",
       "      <th>12</th>\n",
       "      <td>75032</td>\n",
       "      <td>Cynthia</td>\n",
       "      <td>Mcdaniel</td>\n",
       "      <td>Female</td>\n",
       "      <td>Georgia</td>\n",
       "      <td>75</td>\n",
       "      <td>1/1/2017</td>\n",
       "      <td>1</td>\n",
       "      <td>married</td>\n",
       "      <td>57835</td>\n",
       "    </tr>\n",
       "    <tr>\n",
       "      <th>13</th>\n",
       "      <td>51</td>\n",
       "      <td>Stephanie</td>\n",
       "      <td>Jensen</td>\n",
       "      <td>Female</td>\n",
       "      <td>Wyoming</td>\n",
       "      <td>37</td>\n",
       "      <td>1/1/2017</td>\n",
       "      <td>1</td>\n",
       "      <td>married</td>\n",
       "      <td>71190</td>\n",
       "    </tr>\n",
       "    <tr>\n",
       "      <th>14</th>\n",
       "      <td>516</td>\n",
       "      <td>Peter</td>\n",
       "      <td>Hunt</td>\n",
       "      <td>Male</td>\n",
       "      <td>Colorado</td>\n",
       "      <td>51</td>\n",
       "      <td>1/1/2017</td>\n",
       "      <td>2</td>\n",
       "      <td>married</td>\n",
       "      <td>146559</td>\n",
       "    </tr>\n",
       "    <tr>\n",
       "      <th>15</th>\n",
       "      <td>6965</td>\n",
       "      <td>Brandon</td>\n",
       "      <td>Mata</td>\n",
       "      <td>Male</td>\n",
       "      <td>North Dakota</td>\n",
       "      <td>70</td>\n",
       "      <td>1/1/2017</td>\n",
       "      <td>0</td>\n",
       "      <td>divorced/widowed</td>\n",
       "      <td>100091</td>\n",
       "    </tr>\n",
       "    <tr>\n",
       "      <th>16</th>\n",
       "      <td>8794</td>\n",
       "      <td>Amy</td>\n",
       "      <td>Mack</td>\n",
       "      <td>Female</td>\n",
       "      <td>Nebraska</td>\n",
       "      <td>30</td>\n",
       "      <td>1/1/2017</td>\n",
       "      <td>3</td>\n",
       "      <td>married</td>\n",
       "      <td>57096</td>\n",
       "    </tr>\n",
       "    <tr>\n",
       "      <th>17</th>\n",
       "      <td>9944</td>\n",
       "      <td>Brian</td>\n",
       "      <td>Oneill</td>\n",
       "      <td>Male</td>\n",
       "      <td>Wisconsin</td>\n",
       "      <td>26</td>\n",
       "      <td>1/1/2017</td>\n",
       "      <td>1</td>\n",
       "      <td>married</td>\n",
       "      <td>91826</td>\n",
       "    </tr>\n",
       "    <tr>\n",
       "      <th>18</th>\n",
       "      <td>13313</td>\n",
       "      <td>Victor</td>\n",
       "      <td>Moss</td>\n",
       "      <td>Male</td>\n",
       "      <td>Alaska</td>\n",
       "      <td>31</td>\n",
       "      <td>1/1/2017</td>\n",
       "      <td>2</td>\n",
       "      <td>married</td>\n",
       "      <td>91111</td>\n",
       "    </tr>\n",
       "    <tr>\n",
       "      <th>19</th>\n",
       "      <td>17335</td>\n",
       "      <td>Patrick</td>\n",
       "      <td>Fowler</td>\n",
       "      <td>Male</td>\n",
       "      <td>Vermont</td>\n",
       "      <td>65</td>\n",
       "      <td>1/1/2017</td>\n",
       "      <td>1</td>\n",
       "      <td>married</td>\n",
       "      <td>34514</td>\n",
       "    </tr>\n",
       "    <tr>\n",
       "      <th>20</th>\n",
       "      <td>29864</td>\n",
       "      <td>Randy</td>\n",
       "      <td>Mills</td>\n",
       "      <td>Male</td>\n",
       "      <td>North Dakota</td>\n",
       "      <td>39</td>\n",
       "      <td>1/1/2017</td>\n",
       "      <td>1</td>\n",
       "      <td>married</td>\n",
       "      <td>44364</td>\n",
       "    </tr>\n",
       "    <tr>\n",
       "      <th>21</th>\n",
       "      <td>37744</td>\n",
       "      <td>Wanda</td>\n",
       "      <td>Salas</td>\n",
       "      <td>Female</td>\n",
       "      <td>Arkansas</td>\n",
       "      <td>77</td>\n",
       "      <td>1/1/2017</td>\n",
       "      <td>1</td>\n",
       "      <td>married</td>\n",
       "      <td>125977</td>\n",
       "    </tr>\n",
       "    <tr>\n",
       "      <th>22</th>\n",
       "      <td>50000</td>\n",
       "      <td>Sandra</td>\n",
       "      <td>Trejo</td>\n",
       "      <td>Female</td>\n",
       "      <td>Maine</td>\n",
       "      <td>64</td>\n",
       "      <td>1/1/2017</td>\n",
       "      <td>2</td>\n",
       "      <td>married</td>\n",
       "      <td>115489</td>\n",
       "    </tr>\n",
       "    <tr>\n",
       "      <th>23</th>\n",
       "      <td>55567</td>\n",
       "      <td>Martha</td>\n",
       "      <td>Hurst</td>\n",
       "      <td>Female</td>\n",
       "      <td>North Carolina</td>\n",
       "      <td>67</td>\n",
       "      <td>1/1/2017</td>\n",
       "      <td>2</td>\n",
       "      <td>married</td>\n",
       "      <td>48645</td>\n",
       "    </tr>\n",
       "    <tr>\n",
       "      <th>24</th>\n",
       "      <td>57549</td>\n",
       "      <td>Shawn</td>\n",
       "      <td>Moore</td>\n",
       "      <td>Male</td>\n",
       "      <td>Montana</td>\n",
       "      <td>72</td>\n",
       "      <td>1/1/2017</td>\n",
       "      <td>0</td>\n",
       "      <td>divorced/widowed</td>\n",
       "      <td>135302</td>\n",
       "    </tr>\n",
       "    <tr>\n",
       "      <th>25</th>\n",
       "      <td>60386</td>\n",
       "      <td>Wayne</td>\n",
       "      <td>Woodward</td>\n",
       "      <td>Male</td>\n",
       "      <td>Alaska</td>\n",
       "      <td>59</td>\n",
       "      <td>1/1/2017</td>\n",
       "      <td>2</td>\n",
       "      <td>married</td>\n",
       "      <td>136778</td>\n",
       "    </tr>\n",
       "    <tr>\n",
       "      <th>26</th>\n",
       "      <td>68032</td>\n",
       "      <td>Charles</td>\n",
       "      <td>Stevenson</td>\n",
       "      <td>Male</td>\n",
       "      <td>West Virginia</td>\n",
       "      <td>74</td>\n",
       "      <td>1/1/2017</td>\n",
       "      <td>2</td>\n",
       "      <td>married</td>\n",
       "      <td>34992</td>\n",
       "    </tr>\n",
       "    <tr>\n",
       "      <th>27</th>\n",
       "      <td>83910</td>\n",
       "      <td>Ruth</td>\n",
       "      <td>Rice</td>\n",
       "      <td>Female</td>\n",
       "      <td>Indiana</td>\n",
       "      <td>70</td>\n",
       "      <td>1/1/2017</td>\n",
       "      <td>1</td>\n",
       "      <td>married</td>\n",
       "      <td>165147</td>\n",
       "    </tr>\n",
       "    <tr>\n",
       "      <th>28</th>\n",
       "      <td>86936</td>\n",
       "      <td>Kimberly</td>\n",
       "      <td>Monroe</td>\n",
       "      <td>Female</td>\n",
       "      <td>Oregon</td>\n",
       "      <td>57</td>\n",
       "      <td>1/1/2017</td>\n",
       "      <td>3</td>\n",
       "      <td>married</td>\n",
       "      <td>44967</td>\n",
       "    </tr>\n",
       "    <tr>\n",
       "      <th>29</th>\n",
       "      <td>99199</td>\n",
       "      <td>Kimberly</td>\n",
       "      <td>Monroe</td>\n",
       "      <td>Female</td>\n",
       "      <td>Arkansas</td>\n",
       "      <td>80</td>\n",
       "      <td>1/1/2017</td>\n",
       "      <td>0</td>\n",
       "      <td>divorced/widowed</td>\n",
       "      <td>138075</td>\n",
       "    </tr>\n",
       "  </tbody>\n",
       "</table>\n",
       "</div>"
      ],
      "text/plain": [
       "    user_id First Name     Surnam  Gender           STATE  Age date_joined  \\\n",
       "0     26711    Deborah   Esquivel  Female        Missouri   48    1/1/2017   \n",
       "1     33890   Patricia       Hart  Female      New Mexico   36    1/1/2017   \n",
       "2     65803    Kenneth     Farley    Male           Idaho   35    1/1/2017   \n",
       "3    125935   Michelle      Hicks  Female            Iowa   40    1/1/2017   \n",
       "4    130797        Ann    Gilmore  Female        Maryland   26    1/1/2017   \n",
       "5    133128    Cynthia      Noble  Female        Kentucky   43    1/1/2017   \n",
       "6    152052      Chris     Walton    Male         Montana   20    1/1/2017   \n",
       "7    168851     Joseph    Hickman    Male  South Carolina   30    1/1/2017   \n",
       "8     69965     Jeremy       Vang    Male           Texas   47    1/1/2017   \n",
       "9     82820      Shawn      Chung    Male        Virginia   26    1/1/2017   \n",
       "10    26441     Gloria   Stafford  Female          Nevada   19    1/1/2017   \n",
       "11    33835      Roger      Casey    Male        Nebraska   45    1/1/2017   \n",
       "12    75032    Cynthia   Mcdaniel  Female         Georgia   75    1/1/2017   \n",
       "13       51  Stephanie     Jensen  Female         Wyoming   37    1/1/2017   \n",
       "14      516      Peter       Hunt    Male        Colorado   51    1/1/2017   \n",
       "15     6965    Brandon       Mata    Male    North Dakota   70    1/1/2017   \n",
       "16     8794        Amy       Mack  Female        Nebraska   30    1/1/2017   \n",
       "17     9944      Brian     Oneill    Male       Wisconsin   26    1/1/2017   \n",
       "18    13313     Victor       Moss    Male          Alaska   31    1/1/2017   \n",
       "19    17335    Patrick     Fowler    Male         Vermont   65    1/1/2017   \n",
       "20    29864      Randy      Mills    Male    North Dakota   39    1/1/2017   \n",
       "21    37744      Wanda      Salas  Female        Arkansas   77    1/1/2017   \n",
       "22    50000     Sandra      Trejo  Female           Maine   64    1/1/2017   \n",
       "23    55567     Martha      Hurst  Female  North Carolina   67    1/1/2017   \n",
       "24    57549      Shawn      Moore    Male         Montana   72    1/1/2017   \n",
       "25    60386      Wayne   Woodward    Male          Alaska   59    1/1/2017   \n",
       "26    68032    Charles  Stevenson    Male   West Virginia   74    1/1/2017   \n",
       "27    83910       Ruth       Rice  Female         Indiana   70    1/1/2017   \n",
       "28    86936   Kimberly     Monroe  Female          Oregon   57    1/1/2017   \n",
       "29    99199   Kimberly     Monroe  Female        Arkansas   80    1/1/2017   \n",
       "\n",
       "    n_dependants                        fam_status  income  \n",
       "0              3                           married  165665  \n",
       "1              0                            single   59285  \n",
       "2              2                           married   99568  \n",
       "3              0                            single   42049  \n",
       "4              1                           married   40374  \n",
       "5              2                           married   49643  \n",
       "6              0                            single   61746  \n",
       "7              0                            single   63712  \n",
       "8              1                           married  162432  \n",
       "9              2                           married   32072  \n",
       "10             2  living with parents and siblings   43443  \n",
       "11             2                           married   47988  \n",
       "12             1                           married   57835  \n",
       "13             1                           married   71190  \n",
       "14             2                           married  146559  \n",
       "15             0                  divorced/widowed  100091  \n",
       "16             3                           married   57096  \n",
       "17             1                           married   91826  \n",
       "18             2                           married   91111  \n",
       "19             1                           married   34514  \n",
       "20             1                           married   44364  \n",
       "21             1                           married  125977  \n",
       "22             2                           married  115489  \n",
       "23             2                           married   48645  \n",
       "24             0                  divorced/widowed  135302  \n",
       "25             2                           married  136778  \n",
       "26             2                           married   34992  \n",
       "27             1                           married  165147  \n",
       "28             3                           married   44967  \n",
       "29             0                  divorced/widowed  138075  "
      ]
     },
     "execution_count": 6,
     "metadata": {},
     "output_type": "execute_result"
    }
   ],
   "source": [
    "df_customer_data_set.head(30)"
   ]
  },
  {
   "cell_type": "code",
   "execution_count": 7,
   "id": "603e513e-7133-4684-91d0-8e310e11b123",
   "metadata": {},
   "outputs": [],
   "source": [
    "# Renaming of column 'Surnam' to 'Surname'\n",
    "df_customer_data_set.rename(columns = {'Surnam' : 'Surname'}, inplace = True)"
   ]
  },
  {
   "cell_type": "code",
   "execution_count": 8,
   "id": "8887bd32-9b6b-4ed9-bfee-7229995931f9",
   "metadata": {},
   "outputs": [
    {
     "data": {
      "text/plain": [
       "Index(['user_id', 'First Name', 'Surname', 'Gender', 'STATE', 'Age',\n",
       "       'date_joined', 'n_dependants', 'fam_status', 'income'],\n",
       "      dtype='object')"
      ]
     },
     "execution_count": 8,
     "metadata": {},
     "output_type": "execute_result"
    }
   ],
   "source": [
    "# Checking the columns of the dataframe\n",
    "df_customer_data_set.columns"
   ]
  },
  {
   "cell_type": "code",
   "execution_count": 9,
   "id": "899f8bc8-6f11-4d13-8363-e001aa7e4f17",
   "metadata": {},
   "outputs": [
    {
     "data": {
      "text/plain": [
       "fam_status\n",
       "married                             144906\n",
       "single                               33962\n",
       "divorced/widowed                     17640\n",
       "living with parents and siblings      9701\n",
       "Name: count, dtype: int64"
      ]
     },
     "execution_count": 9,
     "metadata": {},
     "output_type": "execute_result"
    }
   ],
   "source": [
    "# Checking the values within the 'fam_status' column\n",
    "df_customer_data_set['fam_status'].value_counts(dropna = False)"
   ]
  },
  {
   "cell_type": "code",
   "execution_count": 10,
   "id": "2abf8540-bdf9-4a00-a01a-15b2ec21489c",
   "metadata": {},
   "outputs": [
    {
     "data": {
      "text/html": [
       "<div>\n",
       "<style scoped>\n",
       "    .dataframe tbody tr th:only-of-type {\n",
       "        vertical-align: middle;\n",
       "    }\n",
       "\n",
       "    .dataframe tbody tr th {\n",
       "        vertical-align: top;\n",
       "    }\n",
       "\n",
       "    .dataframe thead th {\n",
       "        text-align: right;\n",
       "    }\n",
       "</style>\n",
       "<table border=\"1\" class=\"dataframe\">\n",
       "  <thead>\n",
       "    <tr style=\"text-align: right;\">\n",
       "      <th></th>\n",
       "      <th>user_id</th>\n",
       "      <th>Age</th>\n",
       "      <th>n_dependants</th>\n",
       "      <th>income</th>\n",
       "    </tr>\n",
       "  </thead>\n",
       "  <tbody>\n",
       "    <tr>\n",
       "      <th>count</th>\n",
       "      <td>206209.000000</td>\n",
       "      <td>206209.000000</td>\n",
       "      <td>206209.000000</td>\n",
       "      <td>206209.000000</td>\n",
       "    </tr>\n",
       "    <tr>\n",
       "      <th>mean</th>\n",
       "      <td>103105.000000</td>\n",
       "      <td>49.501646</td>\n",
       "      <td>1.499823</td>\n",
       "      <td>94632.852548</td>\n",
       "    </tr>\n",
       "    <tr>\n",
       "      <th>std</th>\n",
       "      <td>59527.555167</td>\n",
       "      <td>18.480962</td>\n",
       "      <td>1.118433</td>\n",
       "      <td>42473.786988</td>\n",
       "    </tr>\n",
       "    <tr>\n",
       "      <th>min</th>\n",
       "      <td>1.000000</td>\n",
       "      <td>18.000000</td>\n",
       "      <td>0.000000</td>\n",
       "      <td>25903.000000</td>\n",
       "    </tr>\n",
       "    <tr>\n",
       "      <th>25%</th>\n",
       "      <td>51553.000000</td>\n",
       "      <td>33.000000</td>\n",
       "      <td>0.000000</td>\n",
       "      <td>59874.000000</td>\n",
       "    </tr>\n",
       "    <tr>\n",
       "      <th>50%</th>\n",
       "      <td>103105.000000</td>\n",
       "      <td>49.000000</td>\n",
       "      <td>1.000000</td>\n",
       "      <td>93547.000000</td>\n",
       "    </tr>\n",
       "    <tr>\n",
       "      <th>75%</th>\n",
       "      <td>154657.000000</td>\n",
       "      <td>66.000000</td>\n",
       "      <td>3.000000</td>\n",
       "      <td>124244.000000</td>\n",
       "    </tr>\n",
       "    <tr>\n",
       "      <th>max</th>\n",
       "      <td>206209.000000</td>\n",
       "      <td>81.000000</td>\n",
       "      <td>3.000000</td>\n",
       "      <td>593901.000000</td>\n",
       "    </tr>\n",
       "  </tbody>\n",
       "</table>\n",
       "</div>"
      ],
      "text/plain": [
       "             user_id            Age   n_dependants         income\n",
       "count  206209.000000  206209.000000  206209.000000  206209.000000\n",
       "mean   103105.000000      49.501646       1.499823   94632.852548\n",
       "std     59527.555167      18.480962       1.118433   42473.786988\n",
       "min         1.000000      18.000000       0.000000   25903.000000\n",
       "25%     51553.000000      33.000000       0.000000   59874.000000\n",
       "50%    103105.000000      49.000000       1.000000   93547.000000\n",
       "75%    154657.000000      66.000000       3.000000  124244.000000\n",
       "max    206209.000000      81.000000       3.000000  593901.000000"
      ]
     },
     "execution_count": 10,
     "metadata": {},
     "output_type": "execute_result"
    }
   ],
   "source": [
    "# Descriptive statistics\n",
    "df_customer_data_set.describe()"
   ]
  },
  {
   "cell_type": "code",
   "execution_count": 11,
   "id": "8f7bfb68-fe35-4cc2-862b-e3aa71fd7590",
   "metadata": {},
   "outputs": [
    {
     "data": {
      "text/plain": [
       "count    206209.000000\n",
       "mean     103105.000000\n",
       "std       59527.555167\n",
       "min           1.000000\n",
       "25%       51553.000000\n",
       "50%      103105.000000\n",
       "75%      154657.000000\n",
       "max      206209.000000\n",
       "Name: user_id, dtype: float64"
      ]
     },
     "execution_count": 11,
     "metadata": {},
     "output_type": "execute_result"
    }
   ],
   "source": [
    "df_customer_data_set['user_id'].describe()"
   ]
  },
  {
   "cell_type": "code",
   "execution_count": 12,
   "id": "778f3c23-964f-435d-83be-5d6b7691c692",
   "metadata": {},
   "outputs": [
    {
     "data": {
      "text/plain": [
       "user_id          int64\n",
       "First Name      object\n",
       "Surname         object\n",
       "Gender          object\n",
       "STATE           object\n",
       "Age              int64\n",
       "date_joined     object\n",
       "n_dependants     int64\n",
       "fam_status      object\n",
       "income           int64\n",
       "dtype: object"
      ]
     },
     "execution_count": 12,
     "metadata": {},
     "output_type": "execute_result"
    }
   ],
   "source": [
    "# Checking for data types\n",
    "df_customer_data_set.dtypes"
   ]
  },
  {
   "cell_type": "code",
   "execution_count": 13,
   "id": "09cfa9cb-c003-4047-b1c3-c0af77f27691",
   "metadata": {},
   "outputs": [
    {
     "name": "stdout",
     "output_type": "stream",
     "text": [
      "First Name\n"
     ]
    }
   ],
   "source": [
    "# Looking for mixed-type columns again\n",
    "for col in df_customer_data_set.columns.tolist():\n",
    "    weird = (df_customer_data_set[[col]].map(type) != df_customer_data_set[[col]].iloc[0].apply(type)).any(axis=1)\n",
    "    if len(df_customer_data_set[weird]) > 0:\n",
    "        print(col)"
   ]
  },
  {
   "cell_type": "code",
   "execution_count": 14,
   "id": "09036db3-b1a1-4b95-a34d-be14c7658b36",
   "metadata": {},
   "outputs": [
    {
     "data": {
      "text/plain": [
       "First Name\n",
       "NaN        11259\n",
       "Marilyn     2213\n",
       "Barbara     2154\n",
       "Todd        2113\n",
       "Jeremy      2104\n",
       "           ...  \n",
       "Merry        197\n",
       "Eugene       197\n",
       "Garry        191\n",
       "Ned          186\n",
       "David        186\n",
       "Name: count, Length: 208, dtype: int64"
      ]
     },
     "execution_count": 14,
     "metadata": {},
     "output_type": "execute_result"
    }
   ],
   "source": [
    "# Looking for missing values\n",
    "df_customer_data_set['First Name'].value_counts(dropna = False)"
   ]
  },
  {
   "cell_type": "code",
   "execution_count": 15,
   "id": "de189b06-7daf-44b5-a17d-d754af4933c1",
   "metadata": {},
   "outputs": [],
   "source": [
    "# Creating a subset consisting of the non-missing values\n",
    "df_customer_data_set_2 = df_customer_data_set[df_customer_data_set['First Name'].isnull() == False]"
   ]
  },
  {
   "cell_type": "code",
   "execution_count": 16,
   "id": "8b66ef3e-6271-4eed-9c69-71ed73708610",
   "metadata": {},
   "outputs": [
    {
     "data": {
      "text/plain": [
       "First Name\n",
       "Marilyn    2213\n",
       "Barbara    2154\n",
       "Todd       2113\n",
       "Jeremy     2104\n",
       "Cynthia    1951\n",
       "           ... \n",
       "Merry       197\n",
       "Eugene      197\n",
       "Garry       191\n",
       "Ned         186\n",
       "David       186\n",
       "Name: count, Length: 207, dtype: int64"
      ]
     },
     "execution_count": 16,
     "metadata": {},
     "output_type": "execute_result"
    }
   ],
   "source": [
    "# Looking for the missing values again\n",
    "df_customer_data_set_2['First Name'].value_counts(dropna = False)"
   ]
  },
  {
   "cell_type": "code",
   "execution_count": 17,
   "id": "a82927f7-e341-49a0-b45e-191a396d86fb",
   "metadata": {},
   "outputs": [],
   "source": [
    "# Looking for mixed-type columns again\n",
    "for col in df_customer_data_set_2.columns.tolist():\n",
    "    weird = (df_customer_data_set_2[[col]].map(type) != df_customer_data_set_2[[col]].iloc[0].apply(type)).any(axis=1)\n",
    "    if len(df_customer_data_set_2[weird]) > 0:\n",
    "        print(col)"
   ]
  },
  {
   "cell_type": "code",
   "execution_count": 18,
   "id": "774f64ca-f71b-4029-9a10-38fc41d08f1f",
   "metadata": {},
   "outputs": [
    {
     "data": {
      "text/plain": [
       "user_id         0\n",
       "First Name      0\n",
       "Surname         0\n",
       "Gender          0\n",
       "STATE           0\n",
       "Age             0\n",
       "date_joined     0\n",
       "n_dependants    0\n",
       "fam_status      0\n",
       "income          0\n",
       "dtype: int64"
      ]
     },
     "execution_count": 18,
     "metadata": {},
     "output_type": "execute_result"
    }
   ],
   "source": [
    "# Looking for missing values within the entire dataframe\n",
    "df_customer_data_set_2.isnull().sum()"
   ]
  },
  {
   "cell_type": "code",
   "execution_count": 19,
   "id": "4b200e97-2fc3-42d2-baf7-76f6ab8879f8",
   "metadata": {},
   "outputs": [],
   "source": [
    "# Looking for duplicates within the dataframe\n",
    "df_customer_data_set_2_dups = df_customer_data_set_2[df_customer_data_set_2.duplicated()]"
   ]
  },
  {
   "cell_type": "code",
   "execution_count": 20,
   "id": "1fcfb80c-6bcd-4413-b8e8-1a0d1a237fb9",
   "metadata": {},
   "outputs": [
    {
     "data": {
      "text/html": [
       "<div>\n",
       "<style scoped>\n",
       "    .dataframe tbody tr th:only-of-type {\n",
       "        vertical-align: middle;\n",
       "    }\n",
       "\n",
       "    .dataframe tbody tr th {\n",
       "        vertical-align: top;\n",
       "    }\n",
       "\n",
       "    .dataframe thead th {\n",
       "        text-align: right;\n",
       "    }\n",
       "</style>\n",
       "<table border=\"1\" class=\"dataframe\">\n",
       "  <thead>\n",
       "    <tr style=\"text-align: right;\">\n",
       "      <th></th>\n",
       "      <th>user_id</th>\n",
       "      <th>First Name</th>\n",
       "      <th>Surname</th>\n",
       "      <th>Gender</th>\n",
       "      <th>STATE</th>\n",
       "      <th>Age</th>\n",
       "      <th>date_joined</th>\n",
       "      <th>n_dependants</th>\n",
       "      <th>fam_status</th>\n",
       "      <th>income</th>\n",
       "    </tr>\n",
       "  </thead>\n",
       "  <tbody>\n",
       "  </tbody>\n",
       "</table>\n",
       "</div>"
      ],
      "text/plain": [
       "Empty DataFrame\n",
       "Columns: [user_id, First Name, Surname, Gender, STATE, Age, date_joined, n_dependants, fam_status, income]\n",
       "Index: []"
      ]
     },
     "execution_count": 20,
     "metadata": {},
     "output_type": "execute_result"
    }
   ],
   "source": [
    "df_customer_data_set_2_dups"
   ]
  },
  {
   "cell_type": "code",
   "execution_count": 21,
   "id": "85b57ef8-f89c-49ef-aa6e-4ed425ffcc94",
   "metadata": {},
   "outputs": [
    {
     "data": {
      "text/plain": [
       "(194950, 10)"
      ]
     },
     "execution_count": 21,
     "metadata": {},
     "output_type": "execute_result"
    }
   ],
   "source": [
    "df_customer_data_set_2.shape"
   ]
  },
  {
   "cell_type": "code",
   "execution_count": 22,
   "id": "a8156a70-0bc2-44ec-8bdc-6138d524434c",
   "metadata": {},
   "outputs": [
    {
     "data": {
      "text/plain": [
       "count    194950.000000\n",
       "mean     103140.014947\n",
       "std       59527.705810\n",
       "min           1.000000\n",
       "25%       51597.250000\n",
       "50%      103091.500000\n",
       "75%      154700.750000\n",
       "max      206209.000000\n",
       "Name: user_id, dtype: float64"
      ]
     },
     "execution_count": 22,
     "metadata": {},
     "output_type": "execute_result"
    }
   ],
   "source": [
    "df_customer_data_set_2['user_id'].describe()"
   ]
  },
  {
   "cell_type": "code",
   "execution_count": 23,
   "id": "4fe9b041-984e-40da-a215-5ce50435660b",
   "metadata": {},
   "outputs": [],
   "source": [
    "# Question 6. - importing and merging data\n",
    "# Importing dataframe\n",
    "df_ords_prods_merge_cleaned = pd.read_pickle(os.path.join(path, 'Data', 'Prepared Data', 'Pr_ords_prods_merge_cleaned_Ex4.9.pkl'))"
   ]
  },
  {
   "cell_type": "code",
   "execution_count": 24,
   "id": "43f5f29d-785a-4f96-8a2d-16f3cabb78cd",
   "metadata": {},
   "outputs": [
    {
     "data": {
      "text/plain": [
       "(30356957, 21)"
      ]
     },
     "execution_count": 24,
     "metadata": {},
     "output_type": "execute_result"
    }
   ],
   "source": [
    "df_ords_prods_merge_cleaned.shape"
   ]
  },
  {
   "cell_type": "code",
   "execution_count": 25,
   "id": "0d022268-4cdb-4b08-ab7c-df33bfb32ee5",
   "metadata": {},
   "outputs": [
    {
     "data": {
      "text/html": [
       "<div>\n",
       "<style scoped>\n",
       "    .dataframe tbody tr th:only-of-type {\n",
       "        vertical-align: middle;\n",
       "    }\n",
       "\n",
       "    .dataframe tbody tr th {\n",
       "        vertical-align: top;\n",
       "    }\n",
       "\n",
       "    .dataframe thead th {\n",
       "        text-align: right;\n",
       "    }\n",
       "</style>\n",
       "<table border=\"1\" class=\"dataframe\">\n",
       "  <thead>\n",
       "    <tr style=\"text-align: right;\">\n",
       "      <th></th>\n",
       "      <th>order_id</th>\n",
       "      <th>user_id</th>\n",
       "      <th>order_number</th>\n",
       "      <th>order_dow</th>\n",
       "      <th>order_hour_of_day</th>\n",
       "      <th>days_since_prior_order</th>\n",
       "      <th>product_id</th>\n",
       "      <th>add_to_cart_order</th>\n",
       "      <th>reordered</th>\n",
       "      <th>_merge1</th>\n",
       "      <th>...</th>\n",
       "      <th>aisle_id</th>\n",
       "      <th>department_id</th>\n",
       "      <th>prices</th>\n",
       "      <th>_merge</th>\n",
       "      <th>Busiest days</th>\n",
       "      <th>busiest_period_of_day</th>\n",
       "      <th>max_order</th>\n",
       "      <th>loyalty_flag</th>\n",
       "      <th>average_price</th>\n",
       "      <th>order_frequency</th>\n",
       "    </tr>\n",
       "  </thead>\n",
       "  <tbody>\n",
       "    <tr>\n",
       "      <th>0</th>\n",
       "      <td>3139998.0</td>\n",
       "      <td>138.0</td>\n",
       "      <td>28.0</td>\n",
       "      <td>6.0</td>\n",
       "      <td>11.0</td>\n",
       "      <td>3.0</td>\n",
       "      <td>1</td>\n",
       "      <td>5.0</td>\n",
       "      <td>0.0</td>\n",
       "      <td>both</td>\n",
       "      <td>...</td>\n",
       "      <td>61.0</td>\n",
       "      <td>19.0</td>\n",
       "      <td>5.8</td>\n",
       "      <td>both</td>\n",
       "      <td>Regularly busy</td>\n",
       "      <td>Most orders</td>\n",
       "      <td>32.0</td>\n",
       "      <td>Regular customer</td>\n",
       "      <td>Low spender</td>\n",
       "      <td>Frequent customer</td>\n",
       "    </tr>\n",
       "    <tr>\n",
       "      <th>1</th>\n",
       "      <td>1977647.0</td>\n",
       "      <td>138.0</td>\n",
       "      <td>30.0</td>\n",
       "      <td>6.0</td>\n",
       "      <td>17.0</td>\n",
       "      <td>20.0</td>\n",
       "      <td>1</td>\n",
       "      <td>1.0</td>\n",
       "      <td>1.0</td>\n",
       "      <td>both</td>\n",
       "      <td>...</td>\n",
       "      <td>61.0</td>\n",
       "      <td>19.0</td>\n",
       "      <td>5.8</td>\n",
       "      <td>both</td>\n",
       "      <td>Regularly busy</td>\n",
       "      <td>Average orders</td>\n",
       "      <td>32.0</td>\n",
       "      <td>Regular customer</td>\n",
       "      <td>Low spender</td>\n",
       "      <td>Regular customer</td>\n",
       "    </tr>\n",
       "    <tr>\n",
       "      <th>2</th>\n",
       "      <td>389851.0</td>\n",
       "      <td>709.0</td>\n",
       "      <td>2.0</td>\n",
       "      <td>0.0</td>\n",
       "      <td>21.0</td>\n",
       "      <td>6.0</td>\n",
       "      <td>1</td>\n",
       "      <td>20.0</td>\n",
       "      <td>0.0</td>\n",
       "      <td>both</td>\n",
       "      <td>...</td>\n",
       "      <td>61.0</td>\n",
       "      <td>19.0</td>\n",
       "      <td>5.8</td>\n",
       "      <td>both</td>\n",
       "      <td>Two busiest days</td>\n",
       "      <td>Average orders</td>\n",
       "      <td>5.0</td>\n",
       "      <td>New customer</td>\n",
       "      <td>Low spender</td>\n",
       "      <td>Frequent customer</td>\n",
       "    </tr>\n",
       "    <tr>\n",
       "      <th>4</th>\n",
       "      <td>1813452.0</td>\n",
       "      <td>764.0</td>\n",
       "      <td>3.0</td>\n",
       "      <td>4.0</td>\n",
       "      <td>17.0</td>\n",
       "      <td>9.0</td>\n",
       "      <td>1</td>\n",
       "      <td>11.0</td>\n",
       "      <td>1.0</td>\n",
       "      <td>both</td>\n",
       "      <td>...</td>\n",
       "      <td>61.0</td>\n",
       "      <td>19.0</td>\n",
       "      <td>5.8</td>\n",
       "      <td>both</td>\n",
       "      <td>Two slowest days</td>\n",
       "      <td>Average orders</td>\n",
       "      <td>3.0</td>\n",
       "      <td>New customer</td>\n",
       "      <td>Low spender</td>\n",
       "      <td>Frequent customer</td>\n",
       "    </tr>\n",
       "    <tr>\n",
       "      <th>5</th>\n",
       "      <td>1701441.0</td>\n",
       "      <td>777.0</td>\n",
       "      <td>16.0</td>\n",
       "      <td>1.0</td>\n",
       "      <td>7.0</td>\n",
       "      <td>26.0</td>\n",
       "      <td>1</td>\n",
       "      <td>7.0</td>\n",
       "      <td>0.0</td>\n",
       "      <td>both</td>\n",
       "      <td>...</td>\n",
       "      <td>61.0</td>\n",
       "      <td>19.0</td>\n",
       "      <td>5.8</td>\n",
       "      <td>both</td>\n",
       "      <td>Two busiest days</td>\n",
       "      <td>Average orders</td>\n",
       "      <td>26.0</td>\n",
       "      <td>Regular customer</td>\n",
       "      <td>Low spender</td>\n",
       "      <td>Non-frequent customer</td>\n",
       "    </tr>\n",
       "  </tbody>\n",
       "</table>\n",
       "<p>5 rows × 21 columns</p>\n",
       "</div>"
      ],
      "text/plain": [
       "    order_id  user_id  order_number  order_dow  order_hour_of_day  \\\n",
       "0  3139998.0    138.0          28.0        6.0               11.0   \n",
       "1  1977647.0    138.0          30.0        6.0               17.0   \n",
       "2   389851.0    709.0           2.0        0.0               21.0   \n",
       "4  1813452.0    764.0           3.0        4.0               17.0   \n",
       "5  1701441.0    777.0          16.0        1.0                7.0   \n",
       "\n",
       "   days_since_prior_order  product_id  add_to_cart_order  reordered _merge1  \\\n",
       "0                     3.0           1                5.0        0.0    both   \n",
       "1                    20.0           1                1.0        1.0    both   \n",
       "2                     6.0           1               20.0        0.0    both   \n",
       "4                     9.0           1               11.0        1.0    both   \n",
       "5                    26.0           1                7.0        0.0    both   \n",
       "\n",
       "   ... aisle_id  department_id  prices  _merge      Busiest days  \\\n",
       "0  ...     61.0           19.0     5.8    both    Regularly busy   \n",
       "1  ...     61.0           19.0     5.8    both    Regularly busy   \n",
       "2  ...     61.0           19.0     5.8    both  Two busiest days   \n",
       "4  ...     61.0           19.0     5.8    both  Two slowest days   \n",
       "5  ...     61.0           19.0     5.8    both  Two busiest days   \n",
       "\n",
       "  busiest_period_of_day max_order      loyalty_flag average_price  \\\n",
       "0           Most orders      32.0  Regular customer   Low spender   \n",
       "1        Average orders      32.0  Regular customer   Low spender   \n",
       "2        Average orders       5.0      New customer   Low spender   \n",
       "4        Average orders       3.0      New customer   Low spender   \n",
       "5        Average orders      26.0  Regular customer   Low spender   \n",
       "\n",
       "         order_frequency  \n",
       "0      Frequent customer  \n",
       "1       Regular customer  \n",
       "2      Frequent customer  \n",
       "4      Frequent customer  \n",
       "5  Non-frequent customer  \n",
       "\n",
       "[5 rows x 21 columns]"
      ]
     },
     "execution_count": 25,
     "metadata": {},
     "output_type": "execute_result"
    }
   ],
   "source": [
    "df_ords_prods_merge_cleaned.head()"
   ]
  },
  {
   "cell_type": "code",
   "execution_count": 26,
   "id": "c390a852-88de-4161-88ac-9c5da96736c0",
   "metadata": {},
   "outputs": [],
   "source": [
    "# Renaming of column '_merge' to '_merge2'\n",
    "df_ords_prods_merge_cleaned.rename(columns = {'_merge' : '_merge2'}, inplace = True)"
   ]
  },
  {
   "cell_type": "code",
   "execution_count": 27,
   "id": "a57bb9df-d577-47d2-b00a-b150cb86b0a7",
   "metadata": {},
   "outputs": [
    {
     "data": {
      "text/plain": [
       "Index(['order_id', 'user_id', 'order_number', 'order_dow', 'order_hour_of_day',\n",
       "       'days_since_prior_order', 'product_id', 'add_to_cart_order',\n",
       "       'reordered', '_merge1', 'product_name', 'aisle_id', 'department_id',\n",
       "       'prices', '_merge2', 'Busiest days', 'busiest_period_of_day',\n",
       "       'max_order', 'loyalty_flag', 'average_price', 'order_frequency'],\n",
       "      dtype='object')"
      ]
     },
     "execution_count": 27,
     "metadata": {},
     "output_type": "execute_result"
    }
   ],
   "source": [
    "df_ords_prods_merge_cleaned.columns"
   ]
  },
  {
   "cell_type": "code",
   "execution_count": 28,
   "id": "a923f5c0-7cf7-4e7f-a2b9-c179b2e10a95",
   "metadata": {},
   "outputs": [],
   "source": [
    "# Merging the dataframes including the argument indicator = True\n",
    "df_merged = df_ords_prods_merge_cleaned.merge(df_customer_data_set_2, on = 'user_id', indicator = True)"
   ]
  },
  {
   "cell_type": "code",
   "execution_count": 29,
   "id": "7df37e35-025d-403a-a7c6-1da298b39e6b",
   "metadata": {},
   "outputs": [
    {
     "data": {
      "text/plain": [
       "(28693568, 31)"
      ]
     },
     "execution_count": 29,
     "metadata": {},
     "output_type": "execute_result"
    }
   ],
   "source": [
    "df_merged.shape"
   ]
  },
  {
   "cell_type": "code",
   "execution_count": 30,
   "id": "f2815e7f-9e8f-4660-9cd7-30b3b43d0066",
   "metadata": {},
   "outputs": [
    {
     "data": {
      "text/plain": [
       "Index(['order_id', 'user_id', 'order_number', 'order_dow', 'order_hour_of_day',\n",
       "       'days_since_prior_order', 'product_id', 'add_to_cart_order',\n",
       "       'reordered', '_merge1', 'product_name', 'aisle_id', 'department_id',\n",
       "       'prices', '_merge2', 'Busiest days', 'busiest_period_of_day',\n",
       "       'max_order', 'loyalty_flag', 'average_price', 'order_frequency',\n",
       "       'First Name', 'Surname', 'Gender', 'STATE', 'Age', 'date_joined',\n",
       "       'n_dependants', 'fam_status', 'income', '_merge'],\n",
       "      dtype='object')"
      ]
     },
     "execution_count": 30,
     "metadata": {},
     "output_type": "execute_result"
    }
   ],
   "source": [
    "df_merged.columns"
   ]
  },
  {
   "cell_type": "code",
   "execution_count": 31,
   "id": "3d151053-40d8-4871-bd5b-3563c1751a45",
   "metadata": {},
   "outputs": [
    {
     "data": {
      "text/plain": [
       "_merge\n",
       "both          28693568\n",
       "left_only            0\n",
       "right_only           0\n",
       "Name: count, dtype: int64"
      ]
     },
     "execution_count": 31,
     "metadata": {},
     "output_type": "execute_result"
    }
   ],
   "source": [
    "# Checking the frequency of the '_merge' flag\n",
    "df_merged['_merge'].value_counts(dropna = False)"
   ]
  },
  {
   "cell_type": "code",
   "execution_count": 32,
   "id": "0345667c-caa4-4c00-b0e2-8e38e0e17186",
   "metadata": {},
   "outputs": [],
   "source": [
    "# Merging the dataframes including the argument how = 'outer'\n",
    "df_merged = df_ords_prods_merge_cleaned.merge(df_customer_data_set_2, on = 'user_id', indicator = True, how = 'outer')"
   ]
  },
  {
   "cell_type": "code",
   "execution_count": 33,
   "id": "6516725c-8832-4b07-9759-3d39f80f9aac",
   "metadata": {},
   "outputs": [
    {
     "data": {
      "text/plain": [
       "(30356957, 31)"
      ]
     },
     "execution_count": 33,
     "metadata": {},
     "output_type": "execute_result"
    }
   ],
   "source": [
    "df_merged.shape"
   ]
  },
  {
   "cell_type": "code",
   "execution_count": 34,
   "id": "6ff67aeb-d16b-4540-bbfe-4ee8c8e7c5f0",
   "metadata": {},
   "outputs": [
    {
     "data": {
      "text/plain": [
       "_merge\n",
       "both          28693568\n",
       "left_only      1663389\n",
       "right_only           0\n",
       "Name: count, dtype: int64"
      ]
     },
     "execution_count": 34,
     "metadata": {},
     "output_type": "execute_result"
    }
   ],
   "source": [
    "# Checking the frequency of the '_merge' flag including argument how = 'outer'\n",
    "df_merged['_merge'].value_counts(dropna = False)"
   ]
  },
  {
   "cell_type": "markdown",
   "id": "7ea25546-d7a8-465b-aca8-b08808fdf6ff",
   "metadata": {},
   "source": [
    "# No full match"
   ]
  },
  {
   "cell_type": "code",
   "execution_count": 35,
   "id": "e406f248-1915-49e7-9c81-025321edca7b",
   "metadata": {},
   "outputs": [],
   "source": [
    "# Question 8. - exporting the merged dataframe\n",
    "df_merged.to_pickle(os.path.join(path, 'Data', 'Prepared Data', 'Pr_merged_Task4.9(1).pkl'))"
   ]
  },
  {
   "cell_type": "code",
   "execution_count": null,
   "id": "a9a4fb08-83fa-4737-9e83-41595cf347a9",
   "metadata": {},
   "outputs": [],
   "source": []
  }
 ],
 "metadata": {
  "kernelspec": {
   "display_name": "Python 3 (ipykernel)",
   "language": "python",
   "name": "python3"
  },
  "language_info": {
   "codemirror_mode": {
    "name": "ipython",
    "version": 3
   },
   "file_extension": ".py",
   "mimetype": "text/x-python",
   "name": "python",
   "nbconvert_exporter": "python",
   "pygments_lexer": "ipython3",
   "version": "3.12.7"
  }
 },
 "nbformat": 4,
 "nbformat_minor": 5
}
